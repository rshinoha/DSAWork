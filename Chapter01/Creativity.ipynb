{
 "cells": [
  {
   "cell_type": "markdown",
   "metadata": {},
   "source": [
    "# Creativity Exercises"
   ]
  },
  {
   "cell_type": "markdown",
   "metadata": {},
   "source": [
    "This notebook contains code for creativity exercises for chapter 1"
   ]
  },
  {
   "cell_type": "markdown",
   "metadata": {},
   "source": [
    "Importing necessary modules..."
   ]
  },
  {
   "cell_type": "code",
   "execution_count": 1,
   "metadata": {},
   "outputs": [],
   "source": [
    "from random import randint\n",
    "from time import time_ns"
   ]
  },
  {
   "cell_type": "markdown",
   "metadata": {},
   "source": [
    "**C-1.13** Write a pseudo-code description of a function that reverses a list of n integers, so that the numbers are listed in the opposite order than they were before, and compare this method to an equivalent Python function for doing the same thing."
   ]
  },
  {
   "cell_type": "markdown",
   "metadata": {},
   "source": [
    "*Pseudo-code with return*\n",
    "1. Create empty list\n",
    "2. For each element in the original list from the last element to the first element\n",
    "3. Add the element into the new list\n",
    "4. Return the new list"
   ]
  },
  {
   "cell_type": "markdown",
   "metadata": {},
   "source": [
    "*Pseudo-code with yield*\n",
    "1. For each element in the original list from the last element to the first element\n",
    "2. Yield the current element"
   ]
  },
  {
   "cell_type": "markdown",
   "metadata": {},
   "source": [
    "*Actual* `reversed()` *pseudo-code*"
   ]
  },
  {
   "cell_type": "markdown",
   "metadata": {},
   "source": [
    "1. Check whether object is a sequence that can be reversed\n",
    "2. Create variable to keep track of position in seqeuence, using the \n",
    "3. While the tracker variable hasn't reached the beginning of the sequence\n",
    "4. Decrease tracker variable by one\n",
    "5. Yield the current element in the statement"
   ]
  },
  {
   "cell_type": "markdown",
   "metadata": {},
   "source": [
    "Both of my pseudo-codes lacked exception-handling for whether an object is a sequence. Since objects such as sets and dictionaries don't have an order, using `reversed()` on certain objects would not work. Also, using a while loop is much more concise than using for loops, making my pseudo-codes less ideal than the actual `reversed()` function."
   ]
  },
  {
   "cell_type": "markdown",
   "metadata": {},
   "source": [
    "**C-1.14** Write a short Python function that takes a sequence of integer values and determines if there is a distinct pair of numbers in the sequence whose product is odd."
   ]
  },
  {
   "cell_type": "markdown",
   "metadata": {},
   "source": [
    "Note: just noticed that there is an `all()` function that determines whether all iterables in a list are true..."
   ]
  },
  {
   "cell_type": "code",
   "execution_count": 2,
   "metadata": {},
   "outputs": [],
   "source": [
    "def has_distinct_odd_product_pair(seq):\n",
    "    \"\"\"\n",
    "    Given a sequence of integers, determines whether there are distinct pair of numbers that produces an odd product\n",
    "    \"\"\"\n",
    "    if not all(isinstance(i, int) for i in seq):\n",
    "        raise ValueError('All values must be integers')\n",
    "    distinct_nums = set(seq)\n",
    "    odd_nums = [i % 2 == 1 for i in distinct_nums]\n",
    "    return True if odd_nums.count(True) > 1 else False"
   ]
  },
  {
   "cell_type": "markdown",
   "metadata": {},
   "source": [
    "Try it out! Create a new list of integers:"
   ]
  },
  {
   "cell_type": "code",
   "execution_count": 3,
   "metadata": {},
   "outputs": [
    {
     "data": {
      "text/plain": [
       "True"
      ]
     },
     "execution_count": 3,
     "metadata": {},
     "output_type": "execute_result"
    }
   ],
   "source": [
    "seq = [2,4,-1,-3]\n",
    "has_distinct_odd_product_pair(seq)"
   ]
  },
  {
   "cell_type": "markdown",
   "metadata": {},
   "source": [
    "**C-1.15** Write a Python function that takes a sequence of numbers and determines if all the numbers are different from each other (that is, they are distinct)."
   ]
  },
  {
   "cell_type": "code",
   "execution_count": 4,
   "metadata": {},
   "outputs": [],
   "source": [
    "def all_nums_distinct(seq):\n",
    "    \"\"\"\n",
    "    Determines whether all numbers in a sequence are distinct\n",
    "    \n",
    "    (Note: for floating point numbers, we will use a naive implementation of equivalence)\n",
    "    \"\"\"\n",
    "    # Round to the 5th digit for floats\n",
    "    epsilon = 100000\n",
    "    if any(isinstance(x, float) for x in seq):\n",
    "        # Create a list of seq multiplied by epsilon and make it integers\n",
    "        temp_seq = [int(x * epsilon) for x in seq]\n",
    "        unique_nums = set(temp_seq)\n",
    "    else:\n",
    "        unique_nums = set(seq)\n",
    "    return len(seq) == len(unique_nums)"
   ]
  },
  {
   "cell_type": "markdown",
   "metadata": {},
   "source": [
    "Try it out! Please refrain from using floats that require high precision:"
   ]
  },
  {
   "cell_type": "code",
   "execution_count": 5,
   "metadata": {},
   "outputs": [
    {
     "data": {
      "text/plain": [
       "False"
      ]
     },
     "execution_count": 5,
     "metadata": {},
     "output_type": "execute_result"
    }
   ],
   "source": [
    "seq = [2.0003, 2.00031,3,4]\n",
    "all_nums_distinct(seq)"
   ]
  },
  {
   "cell_type": "markdown",
   "metadata": {},
   "source": [
    "**C-1.16** In our implementation of the scale function (page 25), the body of the loop executes the command `data[j] *= factor`. We have discussed that numeric types are immutable, and that use of the = operator in this context causes\n",
    "the creation of a new instance (not the mutation of an existing instance). How is it still possible, then, that our implementation of scale changes the actual parameter sent by the caller?"
   ]
  },
  {
   "cell_type": "markdown",
   "metadata": {},
   "source": [
    "**A**: The code for the scale function on page 25 is shown below.\n",
    "```python\n",
    "def scale(data, factor):\n",
    "    for j in range(len(data)):\n",
    "        data[j] *= factor\n",
    "```\n",
    "The line of focus is the third line of the code. What the line is doing is the following:\n",
    "1. Evaluates what `data[j]` and `factor` are\n",
    "2. Calculates `data[j] * factor`\n",
    "3. Assigns the pointer of the newly calculate product to `data[j]`\n",
    "\n",
    "Becuase python lists contain a sequence of pointers, we are not mutating any values. Therefore, this code can successfully yield a list of each element multiplied by a given factor."
   ]
  },
  {
   "cell_type": "markdown",
   "metadata": {},
   "source": [
    "**C-1.17** Had we implemented the scale function (page 25) as follows, does it work properly?\n",
    "```python\n",
    "def scale(data, factor):\n",
    "    for val in data:\n",
    "        val *= factor\n",
    "```\n",
    "Explain why or why not."
   ]
  },
  {
   "cell_type": "markdown",
   "metadata": {},
   "source": [
    "**A**: The above code will work properly because val is treated as an identifer. Like C-1.16, we are assigning a new pointer to each element of the original list. The code below verifies this."
   ]
  },
  {
   "cell_type": "code",
   "execution_count": 6,
   "metadata": {},
   "outputs": [],
   "source": [
    "def scale1(data, factor):\n",
    "    for j in range(len(data)):\n",
    "        data[j] *= factor\n",
    "    print(data)"
   ]
  },
  {
   "cell_type": "code",
   "execution_count": 7,
   "metadata": {},
   "outputs": [],
   "source": [
    "def scale2(data, factor):\n",
    "    for val in data:\n",
    "        val *= factor\n",
    "    print(data)"
   ]
  },
  {
   "cell_type": "code",
   "execution_count": 8,
   "metadata": {},
   "outputs": [],
   "source": [
    "seq = [1,3,5,7]\n",
    "factor = 5"
   ]
  },
  {
   "cell_type": "code",
   "execution_count": 9,
   "metadata": {},
   "outputs": [
    {
     "name": "stdout",
     "output_type": "stream",
     "text": [
      "[5, 15, 25, 35]\n"
     ]
    }
   ],
   "source": [
    "scale1(seq, factor)"
   ]
  },
  {
   "cell_type": "code",
   "execution_count": 10,
   "metadata": {},
   "outputs": [
    {
     "name": "stdout",
     "output_type": "stream",
     "text": [
      "[5, 15, 25, 35]\n"
     ]
    }
   ],
   "source": [
    "scale2(seq, factor)"
   ]
  },
  {
   "cell_type": "markdown",
   "metadata": {},
   "source": [
    "**C-1.18** Demonstrate how to use Python’s list comprehension syntax to produce the list [0, 2, 6, 12, 20, 30, 42, 56, 72, 90]."
   ]
  },
  {
   "cell_type": "code",
   "execution_count": 11,
   "metadata": {},
   "outputs": [
    {
     "data": {
      "text/plain": [
       "[0, 2, 6, 12, 20, 30, 42, 56, 72, 90]"
      ]
     },
     "execution_count": 11,
     "metadata": {},
     "output_type": "execute_result"
    }
   ],
   "source": [
    "[sum([x for x in range(0, i * 2, 2)]) for i in range(1, 11)]"
   ]
  },
  {
   "cell_type": "markdown",
   "metadata": {},
   "source": [
    "For the above list, I had assumed that the sequence pattern was `seq[i-1] + 2 * i` for `i` in range of the length of the list. Since I couldn't think of a way to put this in a single line, I used a very lazy implementation of incrementing the range of a nested list comprehension with an outer list to create the target sequence.\n",
    "\n",
    "However, after looking up other interpretations of the algorithm for the target sequence, it became apparent that the optimal algorithm was `i * (i - 1)` for `i` in the range of the length of the list. Therefore, the following list comprehension is the likely optimal list comprehension for the target sequence."
   ]
  },
  {
   "cell_type": "code",
   "execution_count": 12,
   "metadata": {},
   "outputs": [
    {
     "data": {
      "text/plain": [
       "[0, 2, 6, 12, 20, 30, 42, 56, 72, 90]"
      ]
     },
     "execution_count": 12,
     "metadata": {},
     "output_type": "execute_result"
    }
   ],
   "source": [
    "[i * (i - 1) for i in range(1, 11)]"
   ]
  },
  {
   "cell_type": "markdown",
   "metadata": {},
   "source": [
    "**C-1.19** Demonstrate how to use Python’s list comprehension syntax to produce the list [ a , b , c , ..., z ], but without having to type all 26 such characters literally."
   ]
  },
  {
   "cell_type": "code",
   "execution_count": 13,
   "metadata": {},
   "outputs": [
    {
     "data": {
      "text/plain": [
       "['a',\n",
       " 'b',\n",
       " 'c',\n",
       " 'd',\n",
       " 'e',\n",
       " 'f',\n",
       " 'g',\n",
       " 'h',\n",
       " 'i',\n",
       " 'j',\n",
       " 'k',\n",
       " 'l',\n",
       " 'm',\n",
       " 'n',\n",
       " 'o',\n",
       " 'p',\n",
       " 'q',\n",
       " 'r',\n",
       " 's',\n",
       " 't',\n",
       " 'u',\n",
       " 'v',\n",
       " 'w',\n",
       " 'x',\n",
       " 'y',\n",
       " 'z']"
      ]
     },
     "execution_count": 13,
     "metadata": {},
     "output_type": "execute_result"
    }
   ],
   "source": [
    "[chr(x) for x in range(ord('a'), ord('z') + 1)]"
   ]
  },
  {
   "cell_type": "markdown",
   "metadata": {},
   "source": [
    "**C-1.20** Python’s random module includes a function `shuffle(data)` that accepts a list of elements and randomly reorders the elements so that each possible order occurs with equal probability. The random module includes a\n",
    "more basic function `randint(a, b)` that returns a uniformly random integer from a to b (including both endpoints). Using only the randint function, implement your own version of the shuffle function."
   ]
  },
  {
   "cell_type": "markdown",
   "metadata": {},
   "source": [
    "**A**: We can use `randint(a, b)` for choosing a random index of a list."
   ]
  },
  {
   "cell_type": "code",
   "execution_count": 14,
   "metadata": {},
   "outputs": [],
   "source": [
    "def my_shuffle(data):\n",
    "    \"\"\"\n",
    "    Returns a random element from the list, data\n",
    "    \"\"\"\n",
    "    # randint()'s second argument is inclusive\n",
    "    last_index = len(data) - 1\n",
    "    return data[randint(0, last_index)]"
   ]
  },
  {
   "cell_type": "markdown",
   "metadata": {},
   "source": [
    "Try it out! Modify the list, `data`:"
   ]
  },
  {
   "cell_type": "code",
   "execution_count": 15,
   "metadata": {},
   "outputs": [
    {
     "data": {
      "text/plain": [
       "3"
      ]
     },
     "execution_count": 15,
     "metadata": {},
     "output_type": "execute_result"
    }
   ],
   "source": [
    "data = ['a', 3, 'you', 3.3, 5]\n",
    "my_shuffle(data)"
   ]
  },
  {
   "cell_type": "markdown",
   "metadata": {},
   "source": [
    "**C-1.21** Write a Python program that repeatedly reads lines from standard input until an EOFError is raised, and then outputs those lines in reverse order (a user can indicate end of input by typing ctrl-D)."
   ]
  },
  {
   "cell_type": "markdown",
   "metadata": {},
   "source": [
    "**A**: The program is in the directory that contains this python notebook."
   ]
  },
  {
   "cell_type": "markdown",
   "metadata": {},
   "source": [
    "**C-1.22** Write a short Python program that takes two arrays `a` and `b` of length `n` storing `int` values, and returns the dot product of `a` and `b`. That is, it returns an array `c` of length n such that `c[i] = a[i]·b[i]`, for `i = 0, ..., n−1`."
   ]
  },
  {
   "cell_type": "markdown",
   "metadata": {},
   "source": [
    "**A**: The program is in the directory that contains this python notebook."
   ]
  },
  {
   "cell_type": "markdown",
   "metadata": {},
   "source": [
    "**C-1.23** Give an example of a Python code fragment that attempts to write an element to a list based on an index that may be out of bounds. If that index is out of bounds, the program should catch the exception that results, and\n",
    "print the following error message:\n",
    "\n",
    "`“Don’t try buffer overflow attacks in Python!”`"
   ]
  },
  {
   "cell_type": "markdown",
   "metadata": {},
   "source": [
    "Try it out! Feel free to modify `arr` and `i`:"
   ]
  },
  {
   "cell_type": "code",
   "execution_count": 16,
   "metadata": {},
   "outputs": [
    {
     "name": "stdout",
     "output_type": "stream",
     "text": [
      "Don't try buffer overflow attacks in Python!\n"
     ]
    }
   ],
   "source": [
    "arr = [1, 'chicken', 5.4, 222, 'ab']\n",
    "i = -6\n",
    "try:\n",
    "    arr[i] = 'hi'\n",
    "    print(arr)\n",
    "except IndexError:\n",
    "    print(\"Don't try buffer overflow attacks in Python!\")"
   ]
  },
  {
   "cell_type": "markdown",
   "metadata": {},
   "source": [
    "**C-1.24** Write a short Python function that counts the number of vowels in a given character string."
   ]
  },
  {
   "cell_type": "code",
   "execution_count": 17,
   "metadata": {},
   "outputs": [],
   "source": [
    "def count_vows(string):\n",
    "    \"\"\"\n",
    "    Counts the number of vowels in a given string\n",
    "    \"\"\"\n",
    "    lower_string = string.lower()\n",
    "    return sum([1 if ch in ['a', 'e', 'i', 'o', 'u'] else 0 for ch in lower_string])"
   ]
  },
  {
   "cell_type": "markdown",
   "metadata": {},
   "source": [
    "Try it out! Modify `string` to test:"
   ]
  },
  {
   "cell_type": "code",
   "execution_count": 18,
   "metadata": {},
   "outputs": [
    {
     "data": {
      "text/plain": [
       "10"
      ]
     },
     "execution_count": 18,
     "metadata": {},
     "output_type": "execute_result"
    }
   ],
   "source": [
    "string = \"BlAah eh Eh iIoOuU\"\n",
    "count_vows(string)"
   ]
  },
  {
   "cell_type": "markdown",
   "metadata": {},
   "source": [
    "**C-1.25** Write a short Python function that takes a strings, representing a sentence, and returns a copy of the string with all punctuation removed. For example, if given the string \"Let s try, Mike.\", this function would return\n",
    "\"Lets try Mike\"."
   ]
  },
  {
   "cell_type": "code",
   "execution_count": 19,
   "metadata": {},
   "outputs": [],
   "source": [
    "def no_punctuations(string):\n",
    "    \"\"\"\n",
    "    Given a string, returns a new string without punctuations\n",
    "    \"\"\"\n",
    "    no_punc = \"\"\n",
    "    for ch in string:\n",
    "        if ch.isalnum() or ch.isspace():\n",
    "            no_punc += ch\n",
    "        else:\n",
    "            pass\n",
    "    return no_punc"
   ]
  },
  {
   "cell_type": "code",
   "execution_count": 20,
   "metadata": {},
   "outputs": [
    {
     "data": {
      "text/plain": [
       "'Hi How are you It is Feb 14 today'"
      ]
     },
     "execution_count": 20,
     "metadata": {},
     "output_type": "execute_result"
    }
   ],
   "source": [
    "string = \"Hi! How are you? It is Feb. 14 today.\"\n",
    "no_punctuations(string)"
   ]
  },
  {
   "cell_type": "markdown",
   "metadata": {},
   "source": [
    "**C-1.26** Write a short program that takes as input three integers, a, b, and c, from the console and determines if they can be used in a correct arithmetic formula (in the given order), like $a+b = c$, $a = b−c$, or $a∗b = c$."
   ]
  },
  {
   "cell_type": "markdown",
   "metadata": {},
   "source": [
    "**A**: The program is in the directory that contains this python notebook."
   ]
  },
  {
   "cell_type": "markdown",
   "metadata": {},
   "source": [
    "**C-1.27** In Section 1.8, we provided three different implementations of a generator that computes factors of a given integer. The third of those implementations, from page 41, was the most efficient, but we noted that it did not\n",
    "yield the factors in increasing order. Modify the generator so that it reports factors in increasing order, while maintaining its general performance advantages."
   ]
  },
  {
   "cell_type": "markdown",
   "metadata": {},
   "source": [
    "This is the function that is provided by the textbook:"
   ]
  },
  {
   "cell_type": "code",
   "execution_count": 21,
   "metadata": {},
   "outputs": [],
   "source": [
    "def factors(n):\n",
    "    k = 1\n",
    "    while k * k < n:\n",
    "        if n % k == 0:\n",
    "            yield k\n",
    "            yield n // k\n",
    "        k += 1\n",
    "    if k * k == n:\n",
    "        yield k"
   ]
  },
  {
   "cell_type": "markdown",
   "metadata": {},
   "source": [
    "My best attempt at creating an ordered `factors()` function is the following:"
   ]
  },
  {
   "cell_type": "code",
   "execution_count": 22,
   "metadata": {},
   "outputs": [],
   "source": [
    "def ordered_factors(n):\n",
    "    k = 1\n",
    "    while k * k < n:\n",
    "        if n % k == 0:\n",
    "            yield k\n",
    "        k += 1\n",
    "    if k * k == n:\n",
    "        yield k\n",
    "    k -= 1\n",
    "    while k > 0:\n",
    "        if n % k == 0:\n",
    "            yield n // k\n",
    "        k -= 1"
   ]
  },
  {
   "cell_type": "markdown",
   "metadata": {},
   "source": [
    "While the `ordered_factors()` function is most likely slower than the textbook's `factors()` function, the `ordered_function()` is able to reduce the number of times we would have to execute the while loop if we stuck with looping until `k == n`."
   ]
  },
  {
   "cell_type": "markdown",
   "metadata": {},
   "source": [
    "Try the two functions out by entering different numbers to test in `num`:"
   ]
  },
  {
   "cell_type": "code",
   "execution_count": 23,
   "metadata": {},
   "outputs": [],
   "source": [
    "num = 98475"
   ]
  },
  {
   "cell_type": "code",
   "execution_count": 24,
   "metadata": {},
   "outputs": [
    {
     "name": "stdout",
     "output_type": "stream",
     "text": [
      "1\n",
      "98475\n",
      "3\n",
      "32825\n",
      "5\n",
      "19695\n",
      "13\n",
      "7575\n",
      "15\n",
      "6565\n",
      "25\n",
      "3939\n",
      "39\n",
      "2525\n",
      "65\n",
      "1515\n",
      "75\n",
      "1313\n",
      "101\n",
      "975\n",
      "195\n",
      "505\n",
      "303\n",
      "325\n",
      "Time taken for normal: 0 ns\n"
     ]
    }
   ],
   "source": [
    "start_default = time_ns()\n",
    "for n in factors(num):\n",
    "    print(n)\n",
    "    delta_f = time_ns() - start_default\n",
    "print(\"Time taken for normal: {} ns\".format(delta_f))"
   ]
  },
  {
   "cell_type": "code",
   "execution_count": 59,
   "metadata": {},
   "outputs": [
    {
     "name": "stdout",
     "output_type": "stream",
     "text": [
      "1\n",
      "3\n",
      "5\n",
      "13\n",
      "15\n",
      "25\n",
      "39\n",
      "65\n",
      "75\n",
      "101\n",
      "195\n",
      "303\n",
      "325\n",
      "505\n",
      "975\n",
      "1313\n",
      "1515\n",
      "2525\n",
      "3939\n",
      "6565\n",
      "7575\n",
      "19695\n",
      "32825\n",
      "98475\n",
      "Time taken for ordered: 0 ns\n",
      "Difference in run-time: 0 ns\n"
     ]
    }
   ],
   "source": [
    "start_ordered = time_ns()\n",
    "for n in ordered_factors(num):\n",
    "    print(n)\n",
    "delta_o = time_ns() - start_ordered\n",
    "print(\"Time taken for ordered: {} ns\".format(delta_o))\n",
    "\n",
    "print(\"Difference in run-time: {} ns\".format(delta_o - delta_f))"
   ]
  },
  {
   "cell_type": "markdown",
   "metadata": {},
   "source": [
    "**C-1.28** The ***p-norm*** of a vector $v = (v_1,v_2 ,...,v_n )$ in n-dimensional space is defined as the following:\n",
    "\n",
    "$$\\|v\\|=\\sqrt[p]{v_1^p + v_2^p + \\cdots + v_n^p}$$\n",
    "\n",
    "For the special case of $p = 2$, this results in the traditional Euclidean norm, which represents the length of the vector. For example, the Euclidean norm of a two-dimensional vector with coordinates (4,3) has a Euclidean norm of\n",
    "$\\sqrt{4^2 + 3^2} = \\sqrt{16 + 9} = \\sqrt{25} = 5$. Give an implementation of a function named norm such that `norm(v, p)` returns the $p$-norm value of $v$ and `norm(v)` returns the Euclidean norm of $v$. You may assume that $v$ is a list of numbers."
   ]
  },
  {
   "cell_type": "code",
   "execution_count": 25,
   "metadata": {},
   "outputs": [],
   "source": [
    "def norm(v, p = 2):\n",
    "    \"\"\"\n",
    "    Returns the p-norm of a vector, v. If p isn't specified, will assume p = 2.\n",
    "    \"\"\"\n",
    "    return sum([x ** 2 for x in v]) ** (1/p)"
   ]
  },
  {
   "cell_type": "markdown",
   "metadata": {},
   "source": [
    "Try it out! Change the values in list `v`:"
   ]
  },
  {
   "cell_type": "code",
   "execution_count": 26,
   "metadata": {},
   "outputs": [
    {
     "data": {
      "text/plain": [
       "5.0"
      ]
     },
     "execution_count": 26,
     "metadata": {},
     "output_type": "execute_result"
    }
   ],
   "source": [
    "v = [4, 3]\n",
    "\n",
    "norm(v)"
   ]
  }
 ],
 "metadata": {
  "kernelspec": {
   "display_name": "Python 3",
   "language": "python",
   "name": "python3"
  },
  "language_info": {
   "codemirror_mode": {
    "name": "ipython",
    "version": 3
   },
   "file_extension": ".py",
   "mimetype": "text/x-python",
   "name": "python",
   "nbconvert_exporter": "python",
   "pygments_lexer": "ipython3",
   "version": "3.7.3"
  }
 },
 "nbformat": 4,
 "nbformat_minor": 2
}
