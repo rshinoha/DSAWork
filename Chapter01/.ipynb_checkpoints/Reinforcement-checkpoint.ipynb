{
 "cells": [
  {
   "cell_type": "markdown",
   "metadata": {},
   "source": [
    "# Reinforcement Exercises"
   ]
  },
  {
   "cell_type": "markdown",
   "metadata": {},
   "source": [
    "This notebook contains code for reinforcement exercises for chapter 1"
   ]
  },
  {
   "cell_type": "markdown",
   "metadata": {},
   "source": [
    "Necessary methods from packages"
   ]
  },
  {
   "cell_type": "code",
   "execution_count": 1,
   "metadata": {},
   "outputs": [],
   "source": [
    "from functools import reduce\n",
    "from random import randrange"
   ]
  },
  {
   "cell_type": "markdown",
   "metadata": {},
   "source": [
    "**R-1.1** Write a short Python function, is_multiple(n, m), that takes two integer values and returns True if n is a multiple of m, that is, n = mi for some integer i, and False otherwise."
   ]
  },
  {
   "cell_type": "code",
   "execution_count": 2,
   "metadata": {},
   "outputs": [],
   "source": [
    "def is_multiple(n, m):\n",
    "    \"\"\"\n",
    "    Returns True if m is a multiple of n, False if not\n",
    "    \"\"\"\n",
    "    return False if n%m else True"
   ]
  },
  {
   "cell_type": "markdown",
   "metadata": {},
   "source": [
    "Try it out! Enter two integers to test:"
   ]
  },
  {
   "cell_type": "code",
   "execution_count": 3,
   "metadata": {},
   "outputs": [
    {
     "data": {
      "text/plain": [
       "False"
      ]
     },
     "execution_count": 3,
     "metadata": {},
     "output_type": "execute_result"
    }
   ],
   "source": [
    "is_multiple(15,2)"
   ]
  },
  {
   "cell_type": "markdown",
   "metadata": {},
   "source": [
    "**R-1.2** Write a short Python function, is_even(k), that takes an integer value and returns True if k is even, and False otherwise. However, your function cannot use the multiplication, modulo, or division operators."
   ]
  },
  {
   "cell_type": "code",
   "execution_count": 4,
   "metadata": {},
   "outputs": [],
   "source": [
    "def is_even(k):\n",
    "    \"\"\"\n",
    "    Returns True if k is even, False if not\n",
    "    \"\"\"\n",
    "    num = k\n",
    "    if num < 0:\n",
    "        num *= -1\n",
    "    else:\n",
    "        pass\n",
    "    while num > 1:\n",
    "        num -= 2\n",
    "    return True if num == 0 else False"
   ]
  },
  {
   "cell_type": "markdown",
   "metadata": {},
   "source": [
    "Try it out! Enter an integer to test:"
   ]
  },
  {
   "cell_type": "code",
   "execution_count": 5,
   "metadata": {},
   "outputs": [
    {
     "data": {
      "text/plain": [
       "False"
      ]
     },
     "execution_count": 5,
     "metadata": {},
     "output_type": "execute_result"
    }
   ],
   "source": [
    "is_even(105)"
   ]
  },
  {
   "cell_type": "markdown",
   "metadata": {},
   "source": [
    "**R-1.3** Write a short Python function, minmax(data), that takes a sequence of one or more numbers, and returns the smallest and largest numbers, in the form of a tuple of length two. Do not use the built-in functions min or max in implementing your solution."
   ]
  },
  {
   "cell_type": "code",
   "execution_count": 6,
   "metadata": {},
   "outputs": [],
   "source": [
    "def minmax(data):\n",
    "    \"\"\"\n",
    "    Returns the min and max value of a list of numbers, data, as a tuple\n",
    "    \"\"\"\n",
    "    minval = data[0]\n",
    "    maxval = data[0]\n",
    "    for val in data:\n",
    "        minval = val if val < minval else minval\n",
    "        maxval = val if val > maxval else maxval\n",
    "    return (minval, maxval)"
   ]
  },
  {
   "cell_type": "markdown",
   "metadata": {},
   "source": [
    "Try it out! Change the values in list, *data1*:"
   ]
  },
  {
   "cell_type": "code",
   "execution_count": 7,
   "metadata": {},
   "outputs": [
    {
     "data": {
      "text/plain": [
       "(1, 5)"
      ]
     },
     "execution_count": 7,
     "metadata": {},
     "output_type": "execute_result"
    }
   ],
   "source": [
    "data1 = [1, 3 ,5]\n",
    "minmax(data1)"
   ]
  },
  {
   "cell_type": "markdown",
   "metadata": {},
   "source": [
    "**R-1.4** Write a short Python function that takes a positive integer n and returns the sum of the squares of all the positive integers smaller than n."
   ]
  },
  {
   "cell_type": "code",
   "execution_count": 8,
   "metadata": {},
   "outputs": [],
   "source": [
    "def sum_of_squares(n):\n",
    "    \"\"\"\n",
    "    Returns the sum of squares of all positive integers smaller than n\n",
    "    \"\"\"\n",
    "    if not isinstance(n, int) or n < 0:\n",
    "        raise ValueError('Value must be a postive integer')\n",
    "    total = 0\n",
    "    while n - 1 > 0:\n",
    "        n -= 1\n",
    "        total += n**2\n",
    "    return total"
   ]
  },
  {
   "cell_type": "markdown",
   "metadata": {},
   "source": [
    "Try it out! Enter a positive integer:"
   ]
  },
  {
   "cell_type": "code",
   "execution_count": 9,
   "metadata": {},
   "outputs": [
    {
     "data": {
      "text/plain": [
       "2470"
      ]
     },
     "execution_count": 9,
     "metadata": {},
     "output_type": "execute_result"
    }
   ],
   "source": [
    "sum_of_squares(20)"
   ]
  },
  {
   "cell_type": "markdown",
   "metadata": {},
   "source": [
    "**R-1.5** Give a single command that computes the sum from Exercise R-1.4, relying on Python’s comprehension syntax and the built-in sum function."
   ]
  },
  {
   "cell_type": "code",
   "execution_count": 10,
   "metadata": {},
   "outputs": [],
   "source": [
    "def sum_of_squaresV2(n):\n",
    "    \"\"\"\n",
    "    Returns the sum of squares of all positive integers smaller than n.\n",
    "    This function uses list comprehension and the built-in sum function.\n",
    "    \"\"\"\n",
    "    if not isinstance(n, int) or n < 0:\n",
    "        raise ValueError('Value must be a positive integer')\n",
    "    return sum([x**2 for x in range(1,n)])"
   ]
  },
  {
   "cell_type": "markdown",
   "metadata": {},
   "source": [
    "Try it out? Enter a positive integer:"
   ]
  },
  {
   "cell_type": "code",
   "execution_count": 11,
   "metadata": {},
   "outputs": [
    {
     "data": {
      "text/plain": [
       "2470"
      ]
     },
     "execution_count": 11,
     "metadata": {},
     "output_type": "execute_result"
    }
   ],
   "source": [
    "sum_of_squaresV2(20)"
   ]
  },
  {
   "cell_type": "markdown",
   "metadata": {},
   "source": [
    "**R-1.6** Write a short Python function that takes a positive integer n and returns the sum of the squares of all the odd positive integers smaller than n."
   ]
  },
  {
   "cell_type": "code",
   "execution_count": 12,
   "metadata": {},
   "outputs": [],
   "source": [
    "def odd_sum_of_squares(n):\n",
    "    \"\"\"\n",
    "    Returns the sum of squares of all positive integers smaller than n that are odd.\n",
    "    \"\"\"\n",
    "    if not isinstance(n, int) or n < 0:\n",
    "        raise ValueError('Value must be a positive integer')\n",
    "    num = n if n % 2 == 1 else n + 1\n",
    "    total = 0\n",
    "    while num - 2 > 0:\n",
    "        num -= 2\n",
    "        total += num ** 2\n",
    "    return total"
   ]
  },
  {
   "cell_type": "markdown",
   "metadata": {},
   "source": [
    "Try it out! Enter a positive integer:"
   ]
  },
  {
   "cell_type": "code",
   "execution_count": 13,
   "metadata": {},
   "outputs": [
    {
     "data": {
      "text/plain": [
       "1330"
      ]
     },
     "execution_count": 13,
     "metadata": {},
     "output_type": "execute_result"
    }
   ],
   "source": [
    "odd_sum_of_squares(20)"
   ]
  },
  {
   "cell_type": "markdown",
   "metadata": {},
   "source": [
    "**R-1.7** Give a single command that computes the sum from Exercise R-1.6, relying on Python’s comprehension syntax and the built-in sum function."
   ]
  },
  {
   "cell_type": "code",
   "execution_count": 14,
   "metadata": {},
   "outputs": [],
   "source": [
    "def odd_sum_of_squaresV2(n):\n",
    "    \"\"\"\n",
    "    Returns the sum of squares of all positive integers smaller than n that are odd.\n",
    "    This function uses list comprehension and the built-in sum function.\n",
    "    \"\"\"\n",
    "    if not isinstance(n, int) or n < 0:\n",
    "        raise ValueError('Value must be a positive integer')\n",
    "    return sum([x**2 for x in range(1, n if n %2 == 1 else n + 1, 2)])"
   ]
  },
  {
   "cell_type": "markdown",
   "metadata": {},
   "source": [
    "Try it out! Enter a positive integer:"
   ]
  },
  {
   "cell_type": "code",
   "execution_count": 15,
   "metadata": {},
   "outputs": [
    {
     "data": {
      "text/plain": [
       "1330"
      ]
     },
     "execution_count": 15,
     "metadata": {},
     "output_type": "execute_result"
    }
   ],
   "source": [
    "odd_sum_of_squares(20)"
   ]
  },
  {
   "cell_type": "markdown",
   "metadata": {},
   "source": [
    "**R-1.8** Python allows negative integers to be used as indices into a sequence, such as a string. If string s has length n, and expression s[k] is used for index −n≤k<0, what is the equivalent index j≥0 such that s[j] references\n",
    "the same element?"
   ]
  },
  {
   "cell_type": "markdown",
   "metadata": {},
   "source": [
    "**A**: Since s[-1] is the last element of a string, s[-n] would be the first element of a string."
   ]
  },
  {
   "cell_type": "code",
   "execution_count": 16,
   "metadata": {},
   "outputs": [],
   "source": [
    "def equivalent_iter(word, k):\n",
    "    \"\"\"\n",
    "    For a given string, word, returns what the iterator word be for word[k] in the opposite sign.\n",
    "    \n",
    "    Examples:\n",
    "        equivalent_iter('apple', 3)\n",
    "        >> -2\n",
    "        \n",
    "        equivalent_iter('apple', -2)\n",
    "        >> 3\n",
    "    \"\"\"\n",
    "    if k < 0:\n",
    "        return k + len(word)\n",
    "    else:\n",
    "        return k - len(word)"
   ]
  },
  {
   "cell_type": "code",
   "execution_count": 17,
   "metadata": {},
   "outputs": [],
   "source": [
    "def which_iter_is_it():\n",
    "    \"\"\"\n",
    "    Allows users to test their understanding of iteration within strings.\n",
    "    \"\"\"\n",
    "    continue_game = True\n",
    "    while continue_game:\n",
    "        word = input('Enter a string: ')\n",
    "        while not isinstance(word, str):\n",
    "            word = input('Please enter a valid string: ')\n",
    "        k = int(input('Enter a valid iterator: '))\n",
    "        valid_k = True if k < len(word) and k >= len(word) * -1 else False\n",
    "        while not valid_k:\n",
    "            k = int(input('Enter a valid iterator: '))\n",
    "            valid_k = True if k < len(word) and k >= len(word) * -1 else False\n",
    "        guess_k = int(input('What do you think the equivalent iterator is?: '))\n",
    "        correct_k = equivalent_iter(word, k)\n",
    "        if guess_k == correct_k:\n",
    "            print(\"You're correct!\")\n",
    "        else:\n",
    "            print(\"You're incorrect... the correct iterator is {}\".format(correct_k))\n",
    "        continue_input = input('Would you like to continue? [y/n]: ')\n",
    "        continue_game = True if continue_input[0].lower() == 'y' else False"
   ]
  },
  {
   "cell_type": "code",
   "execution_count": 18,
   "metadata": {},
   "outputs": [
    {
     "name": "stdout",
     "output_type": "stream",
     "text": [
      "Enter a string: potato\n",
      "Enter a valid iterator: 6\n",
      "Enter a valid iterator: 3\n",
      "What do you think the equivalent iterator is?: -3\n",
      "You're correct!\n",
      "Would you like to continue? [y/n]: y\n",
      "Enter a string: tomato\n",
      "Enter a valid iterator: -2\n",
      "What do you think the equivalent iterator is?: 5\n",
      "You're incorrect... the correct iterator is 4\n",
      "Would you like to continue? [y/n]: n\n"
     ]
    }
   ],
   "source": [
    "which_iter_is_it()"
   ]
  },
  {
   "cell_type": "markdown",
   "metadata": {},
   "source": [
    "**R-1.9** What parameters should be sent to the range constructor, to produce a range with values 50, 60, 70, 80?"
   ]
  },
  {
   "cell_type": "code",
   "execution_count": 19,
   "metadata": {},
   "outputs": [
    {
     "name": "stdout",
     "output_type": "stream",
     "text": [
      "50\n",
      "60\n",
      "70\n",
      "80\n"
     ]
    }
   ],
   "source": [
    "for i in range(50, 81, 10):\n",
    "    print(i)"
   ]
  },
  {
   "cell_type": "markdown",
   "metadata": {},
   "source": [
    "**R-1.10** What parameters should be sent to the range constructor, to produce a range with values 8, 6, 4, 2, 0, −2, −4, −6, −8?"
   ]
  },
  {
   "cell_type": "code",
   "execution_count": 20,
   "metadata": {},
   "outputs": [
    {
     "name": "stdout",
     "output_type": "stream",
     "text": [
      "8\n",
      "6\n",
      "4\n",
      "2\n",
      "0\n",
      "-2\n",
      "-4\n",
      "-6\n",
      "-8\n"
     ]
    }
   ],
   "source": [
    "for i in range(8, -9, -2):\n",
    "    print(i)"
   ]
  },
  {
   "cell_type": "markdown",
   "metadata": {},
   "source": [
    "**R-1.11** Demonstrate how to use Python’s list comprehension syntax to produce the list [1, 2, 4, 8, 16, 32, 64, 128, 256]."
   ]
  },
  {
   "cell_type": "markdown",
   "metadata": {},
   "source": [
    "**A** Since these are all powers of 2, we can create a list comprehension that uses values 0 through 8 as the exponent values."
   ]
  },
  {
   "cell_type": "code",
   "execution_count": 21,
   "metadata": {},
   "outputs": [
    {
     "name": "stdout",
     "output_type": "stream",
     "text": [
      "1\n",
      "2\n",
      "4\n",
      "8\n",
      "16\n",
      "32\n",
      "64\n",
      "128\n",
      "256\n"
     ]
    }
   ],
   "source": [
    "powers_of_2 = [2**x for x in range(0, 9)]\n",
    "for i in powers_of_2:\n",
    "    print(i)"
   ]
  },
  {
   "cell_type": "markdown",
   "metadata": {},
   "source": [
    "**R-1.12** Python’s random module includes a function choice(data) that returns a random element from a non-empty sequence. The random module includes a more basic function randrange, with parameterization similar to the built-in range function, that return a random choice from the given range. Using only the randrange function, implement your own version of the choice function."
   ]
  },
  {
   "cell_type": "markdown",
   "metadata": {},
   "source": [
    "**A** I will assume that \"sequence\" refers to a list of numbers that have the same interval between them. If this is the case, we can determine the start, stop, and step of a sequence based on a given sequence, seq.\n",
    "* start: first number in the sequence\n",
    "* stop: last number in the sequence plus 1 if the sequence is increasing, minus one if the sequence is decreasing\n",
    "* step: (stop - start) // (len(seq) - 1)"
   ]
  },
  {
   "cell_type": "code",
   "execution_count": 22,
   "metadata": {},
   "outputs": [],
   "source": [
    "def my_choice_func(seq):\n",
    "    \"\"\"\n",
    "    My own version of the choice function under the assumptions that:\n",
    "    * The sequence must contain all positive numbers\n",
    "    * Each adjacent elements must have the same interval\n",
    "    \"\"\"\n",
    "    start = seq[0]\n",
    "    stop = seq[-1]\n",
    "    step = (stop - start) // (len(seq) - 1)\n",
    "    if not reduce((lambda x, y: x == y), [seq[x + 1] - seq[x] == step for x in range(len(seq) - 1)]):\n",
    "        print([seq[x + 1] - seq[x] for x in range(len(seq) - 1)])\n",
    "        raise ValueError('Not a sequence')\n",
    "    return randrange(start, stop, step)"
   ]
  },
  {
   "cell_type": "markdown",
   "metadata": {},
   "source": [
    "Try it out! Create a list of sequence:"
   ]
  },
  {
   "cell_type": "code",
   "execution_count": 23,
   "metadata": {},
   "outputs": [
    {
     "data": {
      "text/plain": [
       "4"
      ]
     },
     "execution_count": 23,
     "metadata": {},
     "output_type": "execute_result"
    }
   ],
   "source": [
    "your_sequence = [1,4,7,10]\n",
    "my_choice_func(your_sequence)"
   ]
  }
 ],
 "metadata": {
  "kernelspec": {
   "display_name": "Python 3",
   "language": "python",
   "name": "python3"
  },
  "language_info": {
   "codemirror_mode": {
    "name": "ipython",
    "version": 3
   },
   "file_extension": ".py",
   "mimetype": "text/x-python",
   "name": "python",
   "nbconvert_exporter": "python",
   "pygments_lexer": "ipython3",
   "version": "3.7.3"
  }
 },
 "nbformat": 4,
 "nbformat_minor": 2
}
