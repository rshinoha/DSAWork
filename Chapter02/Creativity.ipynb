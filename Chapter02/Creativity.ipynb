{
 "cells": [
  {
   "cell_type": "markdown",
   "metadata": {},
   "source": [
    "# Creativity"
   ]
  },
  {
   "cell_type": "markdown",
   "metadata": {},
   "source": [
    "This notebook contains code and responses for creativity exercises for chapter 2"
   ]
  },
  {
   "cell_type": "markdown",
   "metadata": {},
   "source": [
    "**C-2.24** Suppose you are on the design team for a new e-book reader. What are the primary classes and methods that the Python software for your reader will need? You should include an inheritance diagram for this code, but you\n",
    "do not need to write any actual code. Your software architecture should at least include ways for customers to buy new books, view their list of purchased books, and read their purchased books."
   ]
  },
  {
   "cell_type": "markdown",
   "metadata": {},
   "source": [
    "![C-2.24](C-2.24.jpg \"C-2.24 diagram\")"
   ]
  },
  {
   "cell_type": "markdown",
   "metadata": {},
   "source": [
    "Additional notes:\n",
    "* Book.\\_content: key = page number and value = text and pictures on page\n",
    "* Book.read(num): using a page number, num, gets the value of \\_content; default value of 0 (cover of the book)\n",
    "* Catalog.\\_book_list: list of Book objects\n",
    "* Catalog.purchase(Book): given a Book, 1) checks if Book is in Catalog, 2) checks if Book in Collections, and 3) if Book is in Catalog and not in Collections, adds it to Collection"
   ]
  }
 ],
 "metadata": {
  "kernelspec": {
   "display_name": "Python 3",
   "language": "python",
   "name": "python3"
  },
  "language_info": {
   "codemirror_mode": {
    "name": "ipython",
    "version": 3
   },
   "file_extension": ".py",
   "mimetype": "text/x-python",
   "name": "python",
   "nbconvert_exporter": "python",
   "pygments_lexer": "ipython3",
   "version": "3.7.3"
  }
 },
 "nbformat": 4,
 "nbformat_minor": 2
}
