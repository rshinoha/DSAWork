{
 "cells": [
  {
   "cell_type": "markdown",
   "metadata": {},
   "source": [
    "# Creativity"
   ]
  },
  {
   "cell_type": "markdown",
   "metadata": {},
   "source": [
    "This notebook contains code and responses for creativity exercises for chapter 2"
   ]
  },
  {
   "cell_type": "markdown",
   "metadata": {},
   "source": [
    "**C-2.24** Suppose you are on the design team for a new e-book reader. What are the primary classes and methods that the Python software for your reader will need? You should include an inheritance diagram for this code, but you\n",
    "do not need to write any actual code. Your software architecture should at least include ways for customers to buy new books, view their list of purchased books, and read their purchased books."
   ]
  },
  {
   "cell_type": "markdown",
   "metadata": {},
   "source": [
    "![C-2.24](C-2.24.jpg \"C-2.24 diagram\")"
   ]
  },
  {
   "cell_type": "markdown",
   "metadata": {},
   "source": [
    "Additional notes:\n",
    "* Book.\\_content: key = page number and value = text and pictures on page\n",
    "* Book.read(num): using a page number, num, gets the value of \\_content; default value of 0 (cover of the book)\n",
    "* Catalog.\\_book_list: list of Book objects\n",
    "* Catalog.purchase(Book): given a Book, 1) checks if Book is in Catalog, 2) checks if Book in Collections, and 3) if Book is in Catalog and not in Collections, adds it to Collection"
   ]
  },
  {
   "cell_type": "markdown",
   "metadata": {},
   "source": [
    "**C-2.25** Exercise R-2.12 uses the `__mul__` method to support multiplying a `Vector` by a number, while Exercise R-2.14 uses the `__mul__` method to support computing a dot product of two vectors. Give a single implementation of\n",
    "`Vector.__mul__` that uses run-time type checking to support both syntaxes $u*v$ and $u*k$, where $u$ and $v$ designate vector instances and $k$ represents a number."
   ]
  },
  {
   "cell_type": "markdown",
   "metadata": {},
   "source": [
    "*Answer in vector.py*"
   ]
  },
  {
   "cell_type": "markdown",
   "metadata": {},
   "source": [
    "**C-2.26**  The `SequenceIterator` class of Section 2.3.4 provides what is known as a forward iterator. Implement a class named `ReversedSequenceIterator` that serves as a reverse iterator for any Python sequence type. The first call to next should return the last element of the sequence, the second call to next should return the second-to-last element, and so forth."
   ]
  },
  {
   "cell_type": "markdown",
   "metadata": {},
   "source": [
    "*Answer in reversed_sequence_iterator.py*"
   ]
  },
  {
   "cell_type": "markdown",
   "metadata": {},
   "source": [
    "**C-2.27** In Section 2.3.5, we note that our version of the `Range` class has implicit support for iteration, due to its explicit support of both `__len__` and `__getitem__` . The class also receives implicit support of the Boolean\n",
    "test, \"`k **in** r`\" for Range r. This test is evaluated based on a forward iteration through the range, as evidenced by the relative quickness of the test `2` **`in`** `Range(10000000)` versus `9999999` **`in`** `Range(10000000)`. Provide a more efficient implementation of the `__contains__` method to determine whether a particular value lies within a given range. The running time of your method should be independent of the length of the range."
   ]
  },
  {
   "cell_type": "markdown",
   "metadata": {},
   "source": [
    "*Answer in range.py*"
   ]
  },
  {
   "cell_type": "markdown",
   "metadata": {},
   "source": [
    "## CreditCard and PredatoryCreditCard classes exericises"
   ]
  },
  {
   "cell_type": "markdown",
   "metadata": {},
   "source": [
    "**C-2.28** The `PredatoryCreditCard` class of Section 2.4.1 provides a `process_month` method that models the completion of a monthly cycle. Modify the class so that once a customer has made ten calls to charge in the current month, each additional call to that function results in an additional $1 surcharge.\n",
    "\n",
    "**C-2.29** Modify the `PredatoryCreditCard` class from Section 2.4.1 so that a customer is assigned a minimum monthly payment, as a percentage of the balance, and so that a late fee is assessed if the customer does not subsequently pay that minimum amount before the next monthly cycle.\n",
    "\n",
    "**C-2.30** At the close of Section 2.4.1, we suggest a model in which the `CreditCard` class supports a nonpublic method, `set_balance(b)`, that could be used by subclasses to affect a change to the balance, without directly accessing the `_balance` data member. Implement such a model, revising both the `CreditCard` and `PredatoryCreditCard` classes accordingly."
   ]
  },
  {
   "cell_type": "markdown",
   "metadata": {},
   "source": [
    "## Progression class exercises"
   ]
  },
  {
   "cell_type": "markdown",
   "metadata": {},
   "source": [
    "**C-2.31** Write a Python class that extends the `Progression` class so that each value in the progression is the absolute value of the difference between the previous two values. You should include a constructor that accepts a pair of numbers as the first two values, using 2 and 200 as the defaults.\n",
    "\n",
    "**C-2.32** Write a Python class that extends the `Progression` class so that each value in the progression is the square root of the previous value. (Note that you can no longer represent each value with an integer.) Your constructor should accept an optional parameter specifying the start value, using 65,536 as a default."
   ]
  }
 ],
 "metadata": {
  "kernelspec": {
   "display_name": "Python 3",
   "language": "python",
   "name": "python3"
  },
  "language_info": {
   "codemirror_mode": {
    "name": "ipython",
    "version": 3
   },
   "file_extension": ".py",
   "mimetype": "text/x-python",
   "name": "python",
   "nbconvert_exporter": "python",
   "pygments_lexer": "ipython3",
   "version": "3.7.3"
  }
 },
 "nbformat": 4,
 "nbformat_minor": 2
}
