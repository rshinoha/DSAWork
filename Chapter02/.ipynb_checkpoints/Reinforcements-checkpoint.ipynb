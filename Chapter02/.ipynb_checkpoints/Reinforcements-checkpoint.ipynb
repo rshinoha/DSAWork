{
 "cells": [
  {
   "cell_type": "markdown",
   "metadata": {},
   "source": [
    "# Reinforcement Exercises"
   ]
  },
  {
   "cell_type": "markdown",
   "metadata": {},
   "source": [
    "This notebook contains code and responses for reinforcement exercises for chapter 2."
   ]
  },
  {
   "cell_type": "markdown",
   "metadata": {},
   "source": [
    "**R-2.1** Give three examples of life-critical software applications."
   ]
  },
  {
   "cell_type": "markdown",
   "metadata": {},
   "source": [
    "* Software monitoring vitals for patients\n",
    "* Airplane navigation software\n",
    "* Temperature/oxygen/etc. monitoring in space stations"
   ]
  },
  {
   "cell_type": "markdown",
   "metadata": {},
   "source": [
    "**R-2.2** Give an example of a software application in which adaptability can mean the difference between a prolonged lifetime of sales and bankruptcy."
   ]
  },
  {
   "cell_type": "markdown",
   "metadata": {},
   "source": [
    "Video conferencing software: must constantly evolve to accomodate for new security threats"
   ]
  },
  {
   "cell_type": "markdown",
   "metadata": {},
   "source": [
    "**R-2.3** Describe a component from a text-editor GUI and the methods that it encapsulates."
   ]
  },
  {
   "cell_type": "markdown",
   "metadata": {},
   "source": [
    "Language setting\n",
    "* Changes indentation, color codes for key words in code (variable declaration, loops, etc.) based on which language method is used\n",
    "* Initialization for new languages\n",
    "* Set methods for customization of pre-existing languages"
   ]
  },
  {
   "cell_type": "markdown",
   "metadata": {},
   "source": [
    "**R-2.4** Write a Python class, Flower, that has three instance variables of type str, int, and float, that respectively represent the name of the flower, its number of petals, and its price. Your class must include a constructor method that initializes each variable to an appropriate value, and your class should include methods for setting the value of each type, and retrieving the value of each type."
   ]
  },
  {
   "cell_type": "code",
   "execution_count": 31,
   "metadata": {},
   "outputs": [],
   "source": [
    "class Flower:\n",
    "    \"\"\"\n",
    "    A flower in a catalog of a flower vendor\n",
    "    \"\"\"\n",
    "    def __init__(self, name, petal, price):\n",
    "        \"\"\"\n",
    "        Creates a new flower instance\n",
    "        \n",
    "        * name: name of the flower\n",
    "        * petal: number of petals a flower\n",
    "        * price: price of one flower\n",
    "        \"\"\"\n",
    "        if not isinstance(name, str):\n",
    "            self._name = str(name)\n",
    "        else:\n",
    "            self._name = name\n",
    "        if not isinstance(petal, int):\n",
    "            raise TypeError('petal must be an integer')\n",
    "        elif petal < 1:\n",
    "            raise ValueError('petal must be more than 0')\n",
    "        else:\n",
    "            self._petal = petal\n",
    "        if not isinstance(price, (int, float)):\n",
    "            raise ValueError('price must be numeric')\n",
    "        else:\n",
    "            self._price = price\n",
    "            \n",
    "    def get_name(self):\n",
    "        \"\"\"\n",
    "        Returns the name of the flower\n",
    "        \"\"\"\n",
    "        return self._name\n",
    "        \n",
    "    def get_petal(self):\n",
    "        \"\"\"\n",
    "        Returns the number of petals of the flower\n",
    "        \"\"\"\n",
    "        return self._petal\n",
    "        \n",
    "    def get_price(self):\n",
    "        \"\"\"\n",
    "        Returns the price of the flower\n",
    "        \"\"\"\n",
    "        return self._price\n",
    "    \n",
    "    def set_name(self, name):\n",
    "        \"\"\"\n",
    "        Sets flower name\n",
    "        \"\"\"\n",
    "        self._name = name\n",
    "        \n",
    "    def set_petal(self, petal):\n",
    "        \"\"\"\n",
    "        Sets flower petal count\n",
    "        \"\"\"\n",
    "        self._petal = petal\n",
    "    \n",
    "    def set_price(self, price):\n",
    "        \"\"\"\n",
    "        Sets flower price\n",
    "        \"\"\"\n",
    "        self._price = price"
   ]
  },
  {
   "cell_type": "code",
   "execution_count": 32,
   "metadata": {},
   "outputs": [],
   "source": [
    "flower01 = Flower(8384, 4, 1)"
   ]
  },
  {
   "cell_type": "code",
   "execution_count": 33,
   "metadata": {},
   "outputs": [
    {
     "name": "stdout",
     "output_type": "stream",
     "text": [
      "8384\n",
      "4\n",
      "1\n"
     ]
    }
   ],
   "source": [
    "print(flower01.get_name())\n",
    "print(flower01.get_petal())\n",
    "print(flower01.get_price())"
   ]
  },
  {
   "cell_type": "code",
   "execution_count": 34,
   "metadata": {},
   "outputs": [],
   "source": [
    "flower01.set_name('pansy')\n",
    "flower01.set_petal(45)\n",
    "flower01.set_price(19.99)"
   ]
  },
  {
   "cell_type": "code",
   "execution_count": 35,
   "metadata": {},
   "outputs": [
    {
     "name": "stdout",
     "output_type": "stream",
     "text": [
      "pansy\n",
      "45\n",
      "19.99\n"
     ]
    }
   ],
   "source": [
    "print(flower01.get_name())\n",
    "print(flower01.get_petal())\n",
    "print(flower01.get_price())"
   ]
  }
 ],
 "metadata": {
  "kernelspec": {
   "display_name": "Python 3",
   "language": "python",
   "name": "python3"
  },
  "language_info": {
   "codemirror_mode": {
    "name": "ipython",
    "version": 3
   },
   "file_extension": ".py",
   "mimetype": "text/x-python",
   "name": "python",
   "nbconvert_exporter": "python",
   "pygments_lexer": "ipython3",
   "version": "3.7.3"
  }
 },
 "nbformat": 4,
 "nbformat_minor": 2
}
